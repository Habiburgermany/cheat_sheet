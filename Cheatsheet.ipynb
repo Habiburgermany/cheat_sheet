{
 "cells": [
  {
   "cell_type": "code",
   "execution_count": 1,
   "id": "fc5b3d3f-f210-4276-ace3-7555ba67f5d3",
   "metadata": {},
   "outputs": [
    {
     "name": "stdout",
     "output_type": "stream",
     "text": [
      "Hello world\n"
     ]
    }
   ],
   "source": [
    "msg = \"Hello world\"\n",
    "print(msg)"
   ]
  },
  {
   "cell_type": "code",
   "execution_count": 9,
   "id": "fcd71488-3ffd-4b5f-8614-73383460b195",
   "metadata": {},
   "outputs": [
    {
     "name": "stdout",
     "output_type": "stream",
     "text": [
      "albert einstein\n"
     ]
    }
   ],
   "source": [
    "first_name = 'albert'\n",
    "last_name = 'einstein'\n",
    "full_name = first_name + ' ' + last_name\n",
    "print(full_name)"
   ]
  },
  {
   "cell_type": "code",
   "execution_count": 13,
   "id": "0693dc47-f1a8-408e-b891-1c261cd80600",
   "metadata": {},
   "outputs": [
    {
     "name": "stdout",
     "output_type": "stream",
     "text": [
      "The first bike is : trek\n"
     ]
    }
   ],
   "source": [
    "bikes = ['trek', 'redline', 'giant']\n",
    "first_bike = bikes[0]\n",
    "print(\"The first bike is :\", first_bike)"
   ]
  },
  {
   "cell_type": "code",
   "execution_count": null,
   "id": "1f4e1fbd-2d31-4731-9bbd-12e8867c7460",
   "metadata": {},
   "outputs": [],
   "source": [
    "# Define a list of bike names\n",
    "bikes = ['trek', 'redline', 'giant']\n",
    "\n",
    "# Access the first bike in the list\n",
    "first_bike = bikes[0]\n",
    "\n",
    "# Print the first bike\n",
    "print(\"The first bike is:\", first_bike)"
   ]
  }
 ],
 "metadata": {
  "kernelspec": {
   "display_name": "Python 3 (ipykernel)",
   "language": "python",
   "name": "python3"
  },
  "language_info": {
   "codemirror_mode": {
    "name": "ipython",
    "version": 3
   },
   "file_extension": ".py",
   "mimetype": "text/x-python",
   "name": "python",
   "nbconvert_exporter": "python",
   "pygments_lexer": "ipython3",
   "version": "3.12.7"
  }
 },
 "nbformat": 4,
 "nbformat_minor": 5
}
